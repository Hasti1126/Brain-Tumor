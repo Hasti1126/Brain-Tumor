{
  "cells": [
    {
      "cell_type": "code",
      "execution_count": null,
      "metadata": {
        "id": "DMJCPlVYZNFO"
      },
      "outputs": [],
      "source": [
        "import cv2\n",
        "import os\n",
        "from PIL import Image\n",
        "import numpy as np\n",
        "\n",
        "image_directory='/content/drive/MyDrive/BrainTumor'\n",
        "no_tumor_images=os.listdir(image_directory+'/no')\n",
        "yes_tumor_images=os.listdir(image_directory+'/yes')\n",
        "# val_tumor_images=os.listdir(image_directory+'/pred')\n",
        "\n",
        "dataset=[]\n",
        "label=[]\n",
        "val=[]\n",
        "\n",
        "INPUT_SIZE=64\n",
        "\n",
        "for i, image_name in enumerate(no_tumor_images):\n",
        "  if(image_name.split('.')[1]=='jpg'):\n",
        "    image=cv2.imread(image_directory+'/no/'+image_name)\n",
        "    image=Image.fromarray(image,'RGB')\n",
        "    image=image.resize((INPUT_SIZE,INPUT_SIZE)) \n",
        "    dataset.append(np.array(image))\n",
        "    label.append(0)\n",
        "\n",
        "\n",
        "for i, image_name in enumerate(yes_tumor_images):\n",
        "  if(image_name.split('.')[1]=='jpg'):\n",
        "    image=cv2.imread(image_directory+'/yes/'+image_name)\n",
        "    image=Image.fromarray(image,'RGB')\n",
        "    image=image.resize((INPUT_SIZE,INPUT_SIZE)) \n",
        "    dataset.append(np.array(image))\n",
        "    label.append(1)\n"
      ]
    },
    {
      "cell_type": "code",
      "execution_count": null,
      "metadata": {
        "id": "MSi_Wmica18u"
      },
      "outputs": [],
      "source": [
        "print(len(dataset))\n",
        "print(len(label))"
      ]
    },
    {
      "cell_type": "code",
      "execution_count": null,
      "metadata": {
        "colab": {
          "base_uri": "https://localhost:8080/"
        },
        "id": "098ZEkmpdow0",
        "outputId": "e44344a7-c6ae-4c26-dfec-bcb505823d9a"
      },
      "outputs": [
        {
          "name": "stdout",
          "output_type": "stream",
          "text": [
            "(2400, 64, 64, 3)\n",
            "(2400,)\n",
            "(600, 64, 64, 3)\n",
            "(600,)\n"
          ]
        }
      ],
      "source": [
        "from sklearn.model_selection import train_test_split\n",
        "\n",
        "dataset=np.array(dataset) \n",
        "label=np.array(label)\n",
        "x_train, x_test, y_train, y_test=train_test_split(dataset, label,test_size=0.2,random_state=0)\n",
        "print(x_train.shape)\n",
        "print(y_train.shape)\n",
        "print(x_test.shape)\n",
        "print(y_test.shape)"
      ]
    },
    {
      "cell_type": "markdown",
      "metadata": {
        "id": "dCAYnI8diCKL"
      },
      "source": [
        "# Data Normalization"
      ]
    },
    {
      "cell_type": "code",
      "execution_count": null,
      "metadata": {
        "id": "92GlTnRofKqc"
      },
      "outputs": [],
      "source": [
        "import tensorflow as tf\n",
        "from tensorflow import keras\n",
        "from keras.utils import normalize\n",
        "\n",
        "from keras.models import Sequential\n",
        "from keras.layers import Conv2D,MaxPooling2D\n",
        "from keras.layers import Dense,Dropout,Flatten,Activation\n",
        "from keras.models import Sequential\n",
        "INPUT_SIZE=64\n",
        "x_train=normalize(x_train, axis=1) \n",
        "x_test=normalize( x_test, axis=1)\n",
        "\n",
        "\n",
        "model=Sequential()\n",
        "model.add(Conv2D (32, (3,3), input_shape=(INPUT_SIZE, INPUT_SIZE, 3))) \n",
        "model.add(Activation ('relu'))\n",
        "model.add(MaxPooling2D(pool_size=(2,2)))\n",
        "\n",
        "\n",
        "model.add(Conv2D (32, (3,3), kernel_initializer='he_uniform')) \n",
        "model.add(Activation('relu'))\n",
        "model.add(MaxPooling2D(pool_size=(2,2)))\n",
        "\n",
        "model.add(Conv2D (64, (3,3), kernel_initializer='he_uniform')) \n",
        "model.add(Activation ('relu'))\n",
        "model.add(MaxPooling2D (pool_size=(2,2)))\n",
        "\n",
        "model.add(Flatten())\n",
        "model.add(Dense(64))\n",
        "model.add(Activation('relu'))\n",
        "\n",
        "model.add(Dropout(0.5))\n",
        "model.add(Dense(1))\n",
        "model.add(Activation('sigmoid'))"
      ]
    },
    {
      "cell_type": "code",
      "execution_count": null,
      "metadata": {
        "colab": {
          "base_uri": "https://localhost:8080/"
        },
        "id": "oiUpOLgFmGha",
        "outputId": "c4783710-281a-4211-f3f2-08e6d9e8ebf4"
      },
      "outputs": [
        {
          "name": "stdout",
          "output_type": "stream",
          "text": [
            "Epoch 1/10\n",
            "150/150 [==============================] - 18s 107ms/step - loss: 0.5637 - accuracy: 0.7088 - val_loss: 0.4517 - val_accuracy: 0.7800\n",
            "Epoch 2/10\n",
            "150/150 [==============================] - 16s 106ms/step - loss: 0.4347 - accuracy: 0.8154 - val_loss: 0.3742 - val_accuracy: 0.8333\n",
            "Epoch 3/10\n",
            "150/150 [==============================] - 16s 108ms/step - loss: 0.3447 - accuracy: 0.8558 - val_loss: 0.2718 - val_accuracy: 0.8783\n",
            "Epoch 4/10\n",
            "150/150 [==============================] - 16s 106ms/step - loss: 0.2539 - accuracy: 0.9029 - val_loss: 0.2500 - val_accuracy: 0.8967\n",
            "Epoch 5/10\n",
            "150/150 [==============================] - 16s 106ms/step - loss: 0.2018 - accuracy: 0.9317 - val_loss: 0.1800 - val_accuracy: 0.9283\n",
            "Epoch 6/10\n",
            "150/150 [==============================] - 16s 106ms/step - loss: 0.1350 - accuracy: 0.9563 - val_loss: 0.1836 - val_accuracy: 0.9333\n",
            "Epoch 7/10\n",
            "150/150 [==============================] - 16s 107ms/step - loss: 0.1118 - accuracy: 0.9600 - val_loss: 0.1634 - val_accuracy: 0.9400\n",
            "Epoch 8/10\n",
            "150/150 [==============================] - 16s 104ms/step - loss: 0.0842 - accuracy: 0.9717 - val_loss: 0.1341 - val_accuracy: 0.9517\n",
            "Epoch 9/10\n",
            "150/150 [==============================] - 15s 103ms/step - loss: 0.0595 - accuracy: 0.9821 - val_loss: 0.1148 - val_accuracy: 0.9633\n",
            "Epoch 10/10\n",
            "150/150 [==============================] - 16s 109ms/step - loss: 0.0496 - accuracy: 0.9862 - val_loss: 0.1487 - val_accuracy: 0.9550\n"
          ]
        }
      ],
      "source": [
        "# Binary Cross Entropy= 1, sigmoid\n",
        "# Categorical Cross Entryopy= 2, softmax\n",
        "model.compile(loss='binary_crossentropy', optimizer='adam', metrics=['accuracy'])\n",
        "history=model.fit(x_train, y_train,batch_size=16,verbose=1, epochs=10,validation_data=(x_test,y_test),shuffle=False)\n",
        "model.save('BrainTumor10Epochs.h5')"
      ]
    },
    {
      "cell_type": "code",
      "execution_count": null,
      "metadata": {
        "colab": {
          "base_uri": "https://localhost:8080/",
          "height": 430
        },
        "id": "j9D9rzRkoWTU",
        "outputId": "826b7070-2b4a-4d42-f445-87c02b493a3d"
      },
      "outputs": [
        {
          "data": {
            "image/png": "[encoded data removed]",
            "text/plain": [
              "<Figure size 640x480 with 1 Axes>"
            ]
          },
          "metadata": {},
          "output_type": "display_data"
        }
      ],
      "source": [
        "import matplotlib.pyplot as plt\n",
        "\n",
        "plt.plot(history.history['loss'],label=\"train\")\n",
        "plt.plot(history.history['val_loss'],label=\"test\")\n",
        "plt.legend()\n",
        "plt.show()"
      ]
    },
    {
      "cell_type": "markdown",
      "metadata": {
        "id": "toetgJ35oWsZ"
      },
      "source": [
        "# Model Testing"
      ]
    },
    {
      "cell_type": "code",
      "execution_count": null,
      "metadata": {
        "colab": {
          "base_uri": "https://localhost:8080/"
        },
        "id": "JjWLpHdXnISP",
        "outputId": "d0ae6bce-2e96-43ab-9ac0-3cb3a7bd3813"
      },
      "outputs": [
        {
          "name": "stdout",
          "output_type": "stream",
          "text": [
            "1/1 [==============================] - 0s 296ms/step\n",
            "It does not have brain Tumor\n"
          ]
        }
      ],
      "source": [
        "from keras.models import load_model\n",
        "# model=load_model('Brain Tumor10Epochs.h4')\n",
        "\n",
        "modelf =load_model('/content/drive/MyDrive/BrainTumor/BrainTumor10Epochs.h5')\n",
        "image=cv2.imread('/content/drive/MyDrive/BrainTumor/pred/pred0.jpg')\n",
        "img=Image.fromarray(image)\n",
        "img=img.resize((64,64))\n",
        "img=np.array(img)\n",
        "input_img=np.expand_dims(img, axis=0)\n",
        "x=np.argmax(modelf.predict(input_img), axis=1)\n",
        "if x==1:\n",
        "  print(\"It has brain Tumor\")\n",
        "else :\n",
        "  print(\"It does not have brain Tumor\")\n"
      ]
    }
  ],
  "metadata": {
    "colab": {
      "provenance": []
    },
    "kernelspec": {
      "display_name": "Python 3",
      "name": "python3"
    },
    "language_info": {
      "name": "python"
    }
  },
  "nbformat": 4,
  "nbformat_minor": 0
}